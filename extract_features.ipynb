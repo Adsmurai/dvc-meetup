{
 "cells": [
  {
   "cell_type": "code",
   "execution_count": null,
   "metadata": {},
   "outputs": [],
   "source": [
    "import pandas as pd\n",
    "import os"
   ]
  },
  {
   "cell_type": "code",
   "execution_count": null,
   "metadata": {},
   "outputs": [],
   "source": [
    "data_dir = os.path.join('data', 'prepared')\n",
    "train_data_path = os.path.join(data_dir, 'train.csv')\n",
    "test_data_path = os.path.join(data_dir, 'test.csv')\n",
    "\n",
    "train = pd.read_csv(train_data_path)\n",
    "test = pd.read_csv(test_data_path)"
   ]
  },
  {
   "cell_type": "code",
   "execution_count": null,
   "metadata": {},
   "outputs": [],
   "source": [
    "def add_additional_features(df):\n",
    "    df['sepal_ratio'] = df['sepal length (cm)'] / df['sepal width (cm)']\n",
    "    df['petal_ratio'] = df['petal length (cm)'] / df['petal width (cm)']"
   ]
  },
  {
   "cell_type": "code",
   "execution_count": null,
   "metadata": {},
   "outputs": [],
   "source": [
    "add_additional_features(train)\n",
    "add_additional_features(test)"
   ]
  },
  {
   "cell_type": "code",
   "execution_count": null,
   "metadata": {},
   "outputs": [],
   "source": [
    "features_data_dir = os.path.join('data', 'features')\n",
    "os.makedirs(features_data_dir, exist_ok=True)\n",
    "\n",
    "train_path = os.path.join(features_data_dir, 'train.csv')\n",
    "test_path = os.path.join(features_data_dir, 'test.csv')\n",
    "\n",
    "train.to_csv(train_path, index=False)\n",
    "test.to_csv(test_path, index=False)"
   ]
  }
 ],
 "metadata": {
  "kernelspec": {
   "display_name": "Python 3",
   "language": "python",
   "name": "python3"
  },
  "language_info": {
   "codemirror_mode": {
    "name": "ipython",
    "version": 3
   },
   "file_extension": ".py",
   "mimetype": "text/x-python",
   "name": "python",
   "nbconvert_exporter": "python",
   "pygments_lexer": "ipython3",
   "version": "3.7.6"
  }
 },
 "nbformat": 4,
 "nbformat_minor": 4
}
